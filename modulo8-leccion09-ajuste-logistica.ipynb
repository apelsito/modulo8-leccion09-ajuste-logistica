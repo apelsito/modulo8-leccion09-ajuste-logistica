{
 "cells": [
  {
   "cell_type": "markdown",
   "metadata": {},
   "source": [
    "<div style=\"text-align: center;\">\n",
    "  <img src=\"https://github.com/Hack-io-Data/Imagenes/blob/main/01-LogosHackio/logo_naranja@4x.png?raw=true\" alt=\"esquema\" />\n",
    "</div>\n",
    "\n",
    "# Laboratorio: Construcción Modelo de Clasificación y Evaluación de Métricas\n",
    "\n",
    "Tras realizar el preprocesamiento de los datos y dejarlos listos para construir modelos, ha llegado el momento de dar el siguiente paso: desarrollar tu **primer modelo de clasificación**.\n",
    "\n",
    "El objetivo de este laboratorio es implementar un modelo de clasificación inicial utilizando **Regresión Logística (Logistic Regression)**. Este modelo te permitirá obtener las primeras predicciones para identificar transacciones normales y anómalas, así como evaluar su desempeño utilizando métricas estándar.\n",
    "\n",
    "Además, deberás evaluar si el modelo está en riesgo de **overfitting**, asegurando que nuestras predicciones sean consistentes tanto en los datos de entrenamiento como en los de prueba.\n",
    "\n",
    "\n",
    "## Objetivo del Laboratorio\n",
    "\n",
    "1. Entrenar un modelo de **Regresión Logística** para predecir si una transacción es \"Normal\" o \"Anómala\".\n",
    "\n",
    "2. Evaluar el desempeño del modelo utilizando métricas como:\n",
    "\n",
    "   - Precisión (Accuracy).\n",
    "\n",
    "   - Matriz de confusión.\n",
    "\n",
    "   - Precisión (Precision), exhaustividad (Recall) y F1-Score.\n",
    "\n",
    "   - Área bajo la curva ROC (AUC-ROC).\n",
    "\n",
    "3. Determinar si el modelo presenta **overfitting** o **underfitting**, analizando el rendimiento en los datos de entrenamiento y prueba.\n"
   ]
  },
  {
   "cell_type": "markdown",
   "metadata": {},
   "source": []
  }
 ],
 "metadata": {
  "language_info": {
   "name": "python"
  }
 },
 "nbformat": 4,
 "nbformat_minor": 2
}
